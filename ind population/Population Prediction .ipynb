{
 "cells": [
  {
   "cell_type": "markdown",
   "metadata": {},
   "source": [
    "<h1><center> Population -  A Curse or Boon ? </center></h1>"
   ]
  },
  {
   "cell_type": "markdown",
   "metadata": {},
   "source": [
    "![title](population.jpg)"
   ]
  },
  {
   "cell_type": "markdown",
   "metadata": {},
   "source": [
    "## Introduction\n",
    "The dataset provided is related to population, which consists of various attributes. The attributes provided in the dataset are as follows:\n",
    "\n",
    "<li>total count</li>\n",
    "<li>total male</li>\n",
    "<li>total female</li>\n",
    "<li>literacy total population</li>\n",
    "<li>male literacy</li>\n",
    "<li>female literacy</li>\n",
    "<li>total illiterate</li>\n",
    "<li>male illiterate</li>\n",
    "<li>female illiterate</li>\n",
    "<li>Agriculture total population</li>\n",
    "<li>Agriculture male population</li>\n",
    "<li>total work population</li>\n",
    "<li>male working pop</li>\n",
    "<li>female working pop</li>\n",
    "<li>non-work total pop</li>\n",
    "<li>non-work male</li>\n",
    "<li>non-work female</li>\n",
    "\n",
    "\n",
    "###### The idea here is basically to come up with a prediction which can predict the next 5 years data given the given the above information for years 2001-2015\n"
   ]
  },
  {
   "cell_type": "markdown",
   "metadata": {},
   "source": [
    "## Insights from analysis\n",
    "This report represents our analysis for the given dataset.There seems to be an inherent error in the dataset provided. The data repeats itself for a given name (which is either a state / city / district...) over the years. We see that only for years 2001 and 2011, the data seems to be different, which is the way it should have been.However, all the other years data for a given name is repeating. This does not help us anyway in the prediction since even by a plain visual sight, we just see couple of values and a linear relationship getting established.\n",
    "\n",
    "Need a good dataset to be actually helping in the analysis / predction.\n",
    "\n",
    "What we have done is irrespective of the dataset, a model has been developed. The idea is - with a good dataset (howevever, the attributes should remain the same), the same model is going to work just fine. Hyperparameter tuning might be required to increase the accruacy levels. For now, that is not required. Hyperparameter tuning can be the next step forward.\n",
    "\n",
    "Due to the inherent issues with the dataset, at the moment, no meaningful conclusions can be drawn."
   ]
  },
  {
   "cell_type": "markdown",
   "metadata": {},
   "source": [
    "## Data Analysis"
   ]
  },
  {
   "cell_type": "markdown",
   "metadata": {},
   "source": [
    "#### Performing the necessary imports for data analysis"
   ]
  },
  {
   "cell_type": "code",
   "execution_count": 118,
   "metadata": {},
   "outputs": [],
   "source": [
    "# importing pandas for data manupulation\n",
    "import pandas as pd \n",
    "\n",
    "# import seaborn and plotly for  data visualization and google maps widget\n",
    "import seaborn as sns\n",
    "import matplotlib.pyplot as plt\n",
    "\n",
    "# Import Random Forest for creating model\n",
    "from sklearn.ensemble import RandomForestRegressor\n",
    "\n",
    "# Import r2 score to check the accuracy\n",
    "from sklearn.metrics import r2_score\n",
    "\n"
   ]
  },
  {
   "cell_type": "markdown",
   "metadata": {},
   "source": [
    "# Importing the dataset"
   ]
  },
  {
   "cell_type": "code",
   "execution_count": 119,
   "metadata": {},
   "outputs": [
    {
     "data": {
      "text/html": [
       "<div>\n",
       "<style scoped>\n",
       "    .dataframe tbody tr th:only-of-type {\n",
       "        vertical-align: middle;\n",
       "    }\n",
       "\n",
       "    .dataframe tbody tr th {\n",
       "        vertical-align: top;\n",
       "    }\n",
       "\n",
       "    .dataframe thead th {\n",
       "        text-align: right;\n",
       "    }\n",
       "</style>\n",
       "<table border=\"1\" class=\"dataframe\">\n",
       "  <thead>\n",
       "    <tr style=\"text-align: right;\">\n",
       "      <th></th>\n",
       "      <th>Name</th>\n",
       "      <th>Year</th>\n",
       "      <th>TOT_P</th>\n",
       "      <th>TOT_M</th>\n",
       "      <th>TOT_F</th>\n",
       "      <th>P_LIT</th>\n",
       "      <th>M_LIT</th>\n",
       "      <th>F_LIT</th>\n",
       "      <th>P_ILL</th>\n",
       "      <th>M_ILL</th>\n",
       "      <th>F_ILL</th>\n",
       "      <th>MAIN_AL_P</th>\n",
       "      <th>MAIN_AL_M</th>\n",
       "      <th>MAIN_AL_F</th>\n",
       "      <th>TOT_WORK_P</th>\n",
       "      <th>TOT_WORK_M</th>\n",
       "      <th>TOT_WORK_F</th>\n",
       "      <th>NON_WORK_P</th>\n",
       "      <th>NON_WORK_M</th>\n",
       "      <th>NON_WORK_F</th>\n",
       "    </tr>\n",
       "  </thead>\n",
       "  <tbody>\n",
       "    <tr>\n",
       "      <td>0</td>\n",
       "      <td>WEST BENGAL</td>\n",
       "      <td>2001</td>\n",
       "      <td>80176197.0</td>\n",
       "      <td>3037582.0</td>\n",
       "      <td>38710212.0</td>\n",
       "      <td>47196401.0</td>\n",
       "      <td>27452426.0</td>\n",
       "      <td>19743975.0</td>\n",
       "      <td>32979796.0</td>\n",
       "      <td>14013559.0</td>\n",
       "      <td>18966237.0</td>\n",
       "      <td>4522934.0</td>\n",
       "      <td>3744905.0</td>\n",
       "      <td>778029.0</td>\n",
       "      <td>29481690.0</td>\n",
       "      <td>22388044.0</td>\n",
       "      <td>7093646.0</td>\n",
       "      <td>50694507.0</td>\n",
       "      <td>19077941.0</td>\n",
       "      <td>31616566.0</td>\n",
       "    </tr>\n",
       "    <tr>\n",
       "      <td>1</td>\n",
       "      <td>UTTARANCHAL</td>\n",
       "      <td>2001</td>\n",
       "      <td>8489349.0</td>\n",
       "      <td>3290586.0</td>\n",
       "      <td>4163425.0</td>\n",
       "      <td>5105782.0</td>\n",
       "      <td>3008875.0</td>\n",
       "      <td>2096907.0</td>\n",
       "      <td>3383567.0</td>\n",
       "      <td>1317049.0</td>\n",
       "      <td>2066518.0</td>\n",
       "      <td>142624.0</td>\n",
       "      <td>122799.0</td>\n",
       "      <td>19825.0</td>\n",
       "      <td>3134036.0</td>\n",
       "      <td>1996177.0</td>\n",
       "      <td>1137859.0</td>\n",
       "      <td>5355313.0</td>\n",
       "      <td>2329747.0</td>\n",
       "      <td>3025566.0</td>\n",
       "    </tr>\n",
       "    <tr>\n",
       "      <td>2</td>\n",
       "      <td>UTTAR PRADESH</td>\n",
       "      <td>2001</td>\n",
       "      <td>166197921.0</td>\n",
       "      <td>3473428.0</td>\n",
       "      <td>78632552.0</td>\n",
       "      <td>75719284.0</td>\n",
       "      <td>48901413.0</td>\n",
       "      <td>26817871.0</td>\n",
       "      <td>90478637.0</td>\n",
       "      <td>38663956.0</td>\n",
       "      <td>51814681.0</td>\n",
       "      <td>5956547.0</td>\n",
       "      <td>4816377.0</td>\n",
       "      <td>1140170.0</td>\n",
       "      <td>53983824.0</td>\n",
       "      <td>40981558.0</td>\n",
       "      <td>13002266.0</td>\n",
       "      <td>112214097.0</td>\n",
       "      <td>46583811.0</td>\n",
       "      <td>65630286.0</td>\n",
       "    </tr>\n",
       "    <tr>\n",
       "      <td>3</td>\n",
       "      <td>TRIPURA</td>\n",
       "      <td>2001</td>\n",
       "      <td>3199203.0</td>\n",
       "      <td>1202030.0</td>\n",
       "      <td>1556978.0</td>\n",
       "      <td>2022099.0</td>\n",
       "      <td>1150707.0</td>\n",
       "      <td>871392.0</td>\n",
       "      <td>1177104.0</td>\n",
       "      <td>491518.0</td>\n",
       "      <td>685586.0</td>\n",
       "      <td>168519.0</td>\n",
       "      <td>127177.0</td>\n",
       "      <td>41342.0</td>\n",
       "      <td>1159561.0</td>\n",
       "      <td>831346.0</td>\n",
       "      <td>328215.0</td>\n",
       "      <td>2039642.0</td>\n",
       "      <td>810879.0</td>\n",
       "      <td>1228763.0</td>\n",
       "    </tr>\n",
       "    <tr>\n",
       "      <td>4</td>\n",
       "      <td>TAMIL NADU</td>\n",
       "      <td>2001</td>\n",
       "      <td>62405679.0</td>\n",
       "      <td>697078.0</td>\n",
       "      <td>31004770.0</td>\n",
       "      <td>40524545.0</td>\n",
       "      <td>22809662.0</td>\n",
       "      <td>17714883.0</td>\n",
       "      <td>21881134.0</td>\n",
       "      <td>8591247.0</td>\n",
       "      <td>13289887.0</td>\n",
       "      <td>6062786.0</td>\n",
       "      <td>3273642.0</td>\n",
       "      <td>2789144.0</td>\n",
       "      <td>27878282.0</td>\n",
       "      <td>18100397.0</td>\n",
       "      <td>9777885.0</td>\n",
       "      <td>34527397.0</td>\n",
       "      <td>13300512.0</td>\n",
       "      <td>21226885.0</td>\n",
       "    </tr>\n",
       "  </tbody>\n",
       "</table>\n",
       "</div>"
      ],
      "text/plain": [
       "            Name  Year        TOT_P      TOT_M       TOT_F       P_LIT  \\\n",
       "0    WEST BENGAL  2001   80176197.0  3037582.0  38710212.0  47196401.0   \n",
       "1    UTTARANCHAL  2001    8489349.0  3290586.0   4163425.0   5105782.0   \n",
       "2  UTTAR PRADESH  2001  166197921.0  3473428.0  78632552.0  75719284.0   \n",
       "3        TRIPURA  2001    3199203.0  1202030.0   1556978.0   2022099.0   \n",
       "4     TAMIL NADU  2001   62405679.0   697078.0  31004770.0  40524545.0   \n",
       "\n",
       "        M_LIT       F_LIT       P_ILL       M_ILL       F_ILL  MAIN_AL_P  \\\n",
       "0  27452426.0  19743975.0  32979796.0  14013559.0  18966237.0  4522934.0   \n",
       "1   3008875.0   2096907.0   3383567.0   1317049.0   2066518.0   142624.0   \n",
       "2  48901413.0  26817871.0  90478637.0  38663956.0  51814681.0  5956547.0   \n",
       "3   1150707.0    871392.0   1177104.0    491518.0    685586.0   168519.0   \n",
       "4  22809662.0  17714883.0  21881134.0   8591247.0  13289887.0  6062786.0   \n",
       "\n",
       "   MAIN_AL_M  MAIN_AL_F  TOT_WORK_P  TOT_WORK_M  TOT_WORK_F   NON_WORK_P  \\\n",
       "0  3744905.0   778029.0  29481690.0  22388044.0   7093646.0   50694507.0   \n",
       "1   122799.0    19825.0   3134036.0   1996177.0   1137859.0    5355313.0   \n",
       "2  4816377.0  1140170.0  53983824.0  40981558.0  13002266.0  112214097.0   \n",
       "3   127177.0    41342.0   1159561.0    831346.0    328215.0    2039642.0   \n",
       "4  3273642.0  2789144.0  27878282.0  18100397.0   9777885.0   34527397.0   \n",
       "\n",
       "   NON_WORK_M  NON_WORK_F  \n",
       "0  19077941.0  31616566.0  \n",
       "1   2329747.0   3025566.0  \n",
       "2  46583811.0  65630286.0  \n",
       "3    810879.0   1228763.0  \n",
       "4  13300512.0  21226885.0  "
      ]
     },
     "execution_count": 119,
     "metadata": {},
     "output_type": "execute_result"
    }
   ],
   "source": [
    "# import the dataset to dataframe df\n",
    "# Please ensure to specify the path of the dataset accurately before proceeding further\n",
    "df=pd.read_csv(\"F:\\IndPop.csv\")\n",
    "\n",
    "#display the top 5 rows\n",
    "df.head()"
   ]
  },
  {
   "cell_type": "markdown",
   "metadata": {},
   "source": [
    "# Preprocessing of dataset"
   ]
  },
  {
   "cell_type": "code",
   "execution_count": 120,
   "metadata": {},
   "outputs": [
    {
     "data": {
      "text/plain": [
       "(21182, 20)"
      ]
     },
     "execution_count": 120,
     "metadata": {},
     "output_type": "execute_result"
    }
   ],
   "source": [
    "# checking the size(rows and columns) in the given dataset\n",
    "df.shape"
   ]
  },
  {
   "cell_type": "code",
   "execution_count": 121,
   "metadata": {},
   "outputs": [],
   "source": [
    "# Remove the duplicates because the entire row is duplicated\n",
    "df=df.drop_duplicates()"
   ]
  },
  {
   "cell_type": "code",
   "execution_count": 122,
   "metadata": {},
   "outputs": [
    {
     "data": {
      "text/plain": [
       "(18510, 20)"
      ]
     },
     "execution_count": 122,
     "metadata": {},
     "output_type": "execute_result"
    }
   ],
   "source": [
    "# checking the size after removing duplicate rows in the dataset\n",
    "df.shape"
   ]
  },
  {
   "cell_type": "code",
   "execution_count": 123,
   "metadata": {},
   "outputs": [],
   "source": [
    "#droping the null values in dataset since the size of nan(not a number) is small\n",
    "df=df.dropna()"
   ]
  },
  {
   "cell_type": "code",
   "execution_count": 124,
   "metadata": {},
   "outputs": [
    {
     "data": {
      "text/plain": [
       "(17101, 20)"
      ]
     },
     "execution_count": 124,
     "metadata": {},
     "output_type": "execute_result"
    }
   ],
   "source": [
    "# checking the size after removing nan rows.Dicsion is taken to remove nan values since imputing with a central tendency \n",
    "# measure is not the right thing to do for this dataset \n",
    "df.shape"
   ]
  },
  {
   "cell_type": "code",
   "execution_count": 125,
   "metadata": {},
   "outputs": [],
   "source": [
    "# List of unique city in the dataset\n",
    "locationName=df.Name.unique()\n",
    "\n",
    "# list of unique year in the dataset\n",
    "yearSet=df.Year.unique()"
   ]
  },
  {
   "cell_type": "code",
   "execution_count": 136,
   "metadata": {},
   "outputs": [],
   "source": [
    "# Create a new dataframe\n",
    "inputDataset=pd.DataFrame()\n",
    "tempData=pd.DataFrame()\n",
    "\n",
    "# Removing the inconsistencies in dataset\n",
    "for location in locationName:\n",
    "    for thatYear in yearSet:\n",
    "        tempData=df.loc[(df[\"Name\"]==location) & (df[\"Year\"]==thatYear)]\n",
    "        if len(tempData)>1:\n",
    "            if  (location!=\"Raigarh\" and thatYear!=\"2001\"):\n",
    "\n",
    "                tempData=tempData.loc[tempData.index[0]][2:]+tempData.loc[tempData.index[1]][2:]\n",
    "                tempData=pd.DataFrame(tempData).T\n",
    "                tempData.insert(0,\"Name\",location)\n",
    "                tempData.insert(1,\"Year\",thatYear)\n",
    "                inputDataset=inputDataset.append(tempData)\n"
   ]
  },
  {
   "cell_type": "code",
   "execution_count": 142,
   "metadata": {},
   "outputs": [
    {
     "data": {
      "text/html": [
       "<div>\n",
       "<style scoped>\n",
       "    .dataframe tbody tr th:only-of-type {\n",
       "        vertical-align: middle;\n",
       "    }\n",
       "\n",
       "    .dataframe tbody tr th {\n",
       "        vertical-align: top;\n",
       "    }\n",
       "\n",
       "    .dataframe thead th {\n",
       "        text-align: right;\n",
       "    }\n",
       "</style>\n",
       "<table border=\"1\" class=\"dataframe\">\n",
       "  <thead>\n",
       "    <tr style=\"text-align: right;\">\n",
       "      <th></th>\n",
       "      <th>index</th>\n",
       "      <th>Name</th>\n",
       "      <th>Year</th>\n",
       "      <th>TOT_P</th>\n",
       "      <th>TOT_M</th>\n",
       "      <th>TOT_F</th>\n",
       "      <th>P_LIT</th>\n",
       "      <th>M_LIT</th>\n",
       "      <th>F_LIT</th>\n",
       "      <th>P_ILL</th>\n",
       "      <th>...</th>\n",
       "      <th>F_ILL</th>\n",
       "      <th>MAIN_AL_P</th>\n",
       "      <th>MAIN_AL_M</th>\n",
       "      <th>MAIN_AL_F</th>\n",
       "      <th>TOT_WORK_P</th>\n",
       "      <th>TOT_WORK_M</th>\n",
       "      <th>TOT_WORK_F</th>\n",
       "      <th>NON_WORK_P</th>\n",
       "      <th>NON_WORK_M</th>\n",
       "      <th>NON_WORK_F</th>\n",
       "    </tr>\n",
       "  </thead>\n",
       "  <tbody>\n",
       "    <tr>\n",
       "      <td>0</td>\n",
       "      <td>0</td>\n",
       "      <td>WEST BENGAL</td>\n",
       "      <td>2002</td>\n",
       "      <td>8.01762e+07</td>\n",
       "      <td>4.1466e+07</td>\n",
       "      <td>3.87102e+07</td>\n",
       "      <td>4.71964e+07</td>\n",
       "      <td>2.74524e+07</td>\n",
       "      <td>1.9744e+07</td>\n",
       "      <td>3.29798e+07</td>\n",
       "      <td>...</td>\n",
       "      <td>1.89662e+07</td>\n",
       "      <td>2.94817e+07</td>\n",
       "      <td>2.2388e+07</td>\n",
       "      <td>7.09365e+06</td>\n",
       "      <td>4.52293e+06</td>\n",
       "      <td>3.74490e+06</td>\n",
       "      <td>778029</td>\n",
       "      <td>5.06945e+07</td>\n",
       "      <td>1.90779e+07</td>\n",
       "      <td>3.16166e+07</td>\n",
       "    </tr>\n",
       "    <tr>\n",
       "      <td>1</td>\n",
       "      <td>0</td>\n",
       "      <td>WEST BENGAL</td>\n",
       "      <td>2003</td>\n",
       "      <td>8.01762e+07</td>\n",
       "      <td>4.1466e+07</td>\n",
       "      <td>3.87102e+07</td>\n",
       "      <td>4.71964e+07</td>\n",
       "      <td>2.74524e+07</td>\n",
       "      <td>1.9744e+07</td>\n",
       "      <td>3.29798e+07</td>\n",
       "      <td>...</td>\n",
       "      <td>1.89662e+07</td>\n",
       "      <td>2.94817e+07</td>\n",
       "      <td>2.2388e+07</td>\n",
       "      <td>7.09365e+06</td>\n",
       "      <td>4.52293e+06</td>\n",
       "      <td>3.74490e+06</td>\n",
       "      <td>778029</td>\n",
       "      <td>5.06945e+07</td>\n",
       "      <td>1.90779e+07</td>\n",
       "      <td>3.16166e+07</td>\n",
       "    </tr>\n",
       "    <tr>\n",
       "      <td>2</td>\n",
       "      <td>0</td>\n",
       "      <td>WEST BENGAL</td>\n",
       "      <td>2004</td>\n",
       "      <td>8.01762e+07</td>\n",
       "      <td>4.1466e+07</td>\n",
       "      <td>3.87102e+07</td>\n",
       "      <td>4.71964e+07</td>\n",
       "      <td>2.74524e+07</td>\n",
       "      <td>1.9744e+07</td>\n",
       "      <td>3.29798e+07</td>\n",
       "      <td>...</td>\n",
       "      <td>1.89662e+07</td>\n",
       "      <td>2.94817e+07</td>\n",
       "      <td>2.2388e+07</td>\n",
       "      <td>7.09365e+06</td>\n",
       "      <td>4.52293e+06</td>\n",
       "      <td>3.74490e+06</td>\n",
       "      <td>778029</td>\n",
       "      <td>5.06945e+07</td>\n",
       "      <td>1.90779e+07</td>\n",
       "      <td>3.16166e+07</td>\n",
       "    </tr>\n",
       "    <tr>\n",
       "      <td>3</td>\n",
       "      <td>0</td>\n",
       "      <td>WEST BENGAL</td>\n",
       "      <td>2005</td>\n",
       "      <td>8.01762e+07</td>\n",
       "      <td>4.1466e+07</td>\n",
       "      <td>3.87102e+07</td>\n",
       "      <td>4.71964e+07</td>\n",
       "      <td>2.74524e+07</td>\n",
       "      <td>1.9744e+07</td>\n",
       "      <td>3.29798e+07</td>\n",
       "      <td>...</td>\n",
       "      <td>1.89662e+07</td>\n",
       "      <td>2.94817e+07</td>\n",
       "      <td>2.2388e+07</td>\n",
       "      <td>7.09365e+06</td>\n",
       "      <td>4.52293e+06</td>\n",
       "      <td>3.74490e+06</td>\n",
       "      <td>778029</td>\n",
       "      <td>5.06945e+07</td>\n",
       "      <td>1.90779e+07</td>\n",
       "      <td>3.16166e+07</td>\n",
       "    </tr>\n",
       "    <tr>\n",
       "      <td>4</td>\n",
       "      <td>0</td>\n",
       "      <td>WEST BENGAL</td>\n",
       "      <td>2006</td>\n",
       "      <td>8.01762e+07</td>\n",
       "      <td>4.1466e+07</td>\n",
       "      <td>3.87102e+07</td>\n",
       "      <td>4.71964e+07</td>\n",
       "      <td>2.74524e+07</td>\n",
       "      <td>1.9744e+07</td>\n",
       "      <td>3.29798e+07</td>\n",
       "      <td>...</td>\n",
       "      <td>1.89662e+07</td>\n",
       "      <td>2.94817e+07</td>\n",
       "      <td>2.2388e+07</td>\n",
       "      <td>7.09365e+06</td>\n",
       "      <td>4.52293e+06</td>\n",
       "      <td>3.74490e+06</td>\n",
       "      <td>778029</td>\n",
       "      <td>5.06945e+07</td>\n",
       "      <td>1.90779e+07</td>\n",
       "      <td>3.16166e+07</td>\n",
       "    </tr>\n",
       "    <tr>\n",
       "      <td>...</td>\n",
       "      <td>...</td>\n",
       "      <td>...</td>\n",
       "      <td>...</td>\n",
       "      <td>...</td>\n",
       "      <td>...</td>\n",
       "      <td>...</td>\n",
       "      <td>...</td>\n",
       "      <td>...</td>\n",
       "      <td>...</td>\n",
       "      <td>...</td>\n",
       "      <td>...</td>\n",
       "      <td>...</td>\n",
       "      <td>...</td>\n",
       "      <td>...</td>\n",
       "      <td>...</td>\n",
       "      <td>...</td>\n",
       "      <td>...</td>\n",
       "      <td>...</td>\n",
       "      <td>...</td>\n",
       "      <td>...</td>\n",
       "      <td>...</td>\n",
       "    </tr>\n",
       "    <tr>\n",
       "      <td>7944</td>\n",
       "      <td>0</td>\n",
       "      <td>Anand</td>\n",
       "      <td>2015</td>\n",
       "      <td>2.09274e+06</td>\n",
       "      <td>1.08722e+06</td>\n",
       "      <td>1.00552e+06</td>\n",
       "      <td>1.55125e+06</td>\n",
       "      <td>874481</td>\n",
       "      <td>676772</td>\n",
       "      <td>541492</td>\n",
       "      <td>...</td>\n",
       "      <td>328749</td>\n",
       "      <td>844794</td>\n",
       "      <td>627561</td>\n",
       "      <td>217233</td>\n",
       "      <td>263622</td>\n",
       "      <td>207235</td>\n",
       "      <td>56387</td>\n",
       "      <td>1.24795e+06</td>\n",
       "      <td>459663</td>\n",
       "      <td>788288</td>\n",
       "    </tr>\n",
       "    <tr>\n",
       "      <td>7945</td>\n",
       "      <td>0</td>\n",
       "      <td>Amritsar</td>\n",
       "      <td>2012</td>\n",
       "      <td>2.49066e+06</td>\n",
       "      <td>1.31841e+06</td>\n",
       "      <td>1.17225e+06</td>\n",
       "      <td>1.68477e+06</td>\n",
       "      <td>932981</td>\n",
       "      <td>751789</td>\n",
       "      <td>805886</td>\n",
       "      <td>...</td>\n",
       "      <td>420459</td>\n",
       "      <td>917856</td>\n",
       "      <td>735195</td>\n",
       "      <td>182661</td>\n",
       "      <td>91248</td>\n",
       "      <td>76076</td>\n",
       "      <td>15172</td>\n",
       "      <td>1.5728e+06</td>\n",
       "      <td>583213</td>\n",
       "      <td>989587</td>\n",
       "    </tr>\n",
       "    <tr>\n",
       "      <td>7946</td>\n",
       "      <td>0</td>\n",
       "      <td>Amritsar</td>\n",
       "      <td>2013</td>\n",
       "      <td>2.49066e+06</td>\n",
       "      <td>1.31841e+06</td>\n",
       "      <td>1.17225e+06</td>\n",
       "      <td>1.68477e+06</td>\n",
       "      <td>932981</td>\n",
       "      <td>751789</td>\n",
       "      <td>805886</td>\n",
       "      <td>...</td>\n",
       "      <td>420459</td>\n",
       "      <td>917856</td>\n",
       "      <td>735195</td>\n",
       "      <td>182661</td>\n",
       "      <td>91248</td>\n",
       "      <td>76076</td>\n",
       "      <td>15172</td>\n",
       "      <td>1.5728e+06</td>\n",
       "      <td>583213</td>\n",
       "      <td>989587</td>\n",
       "    </tr>\n",
       "    <tr>\n",
       "      <td>7947</td>\n",
       "      <td>0</td>\n",
       "      <td>Amritsar</td>\n",
       "      <td>2014</td>\n",
       "      <td>2.49066e+06</td>\n",
       "      <td>1.31841e+06</td>\n",
       "      <td>1.17225e+06</td>\n",
       "      <td>1.68477e+06</td>\n",
       "      <td>932981</td>\n",
       "      <td>751789</td>\n",
       "      <td>805886</td>\n",
       "      <td>...</td>\n",
       "      <td>420459</td>\n",
       "      <td>917856</td>\n",
       "      <td>735195</td>\n",
       "      <td>182661</td>\n",
       "      <td>91248</td>\n",
       "      <td>76076</td>\n",
       "      <td>15172</td>\n",
       "      <td>1.5728e+06</td>\n",
       "      <td>583213</td>\n",
       "      <td>989587</td>\n",
       "    </tr>\n",
       "    <tr>\n",
       "      <td>7948</td>\n",
       "      <td>0</td>\n",
       "      <td>Amritsar</td>\n",
       "      <td>2015</td>\n",
       "      <td>2.49066e+06</td>\n",
       "      <td>1.31841e+06</td>\n",
       "      <td>1.17225e+06</td>\n",
       "      <td>1.68477e+06</td>\n",
       "      <td>932981</td>\n",
       "      <td>751789</td>\n",
       "      <td>805886</td>\n",
       "      <td>...</td>\n",
       "      <td>420459</td>\n",
       "      <td>917856</td>\n",
       "      <td>735195</td>\n",
       "      <td>182661</td>\n",
       "      <td>91248</td>\n",
       "      <td>76076</td>\n",
       "      <td>15172</td>\n",
       "      <td>1.5728e+06</td>\n",
       "      <td>583213</td>\n",
       "      <td>989587</td>\n",
       "    </tr>\n",
       "  </tbody>\n",
       "</table>\n",
       "<p>7949 rows × 21 columns</p>\n",
       "</div>"
      ],
      "text/plain": [
       "      index         Name  Year        TOT_P        TOT_M        TOT_F  \\\n",
       "0         0  WEST BENGAL  2002  8.01762e+07   4.1466e+07  3.87102e+07   \n",
       "1         0  WEST BENGAL  2003  8.01762e+07   4.1466e+07  3.87102e+07   \n",
       "2         0  WEST BENGAL  2004  8.01762e+07   4.1466e+07  3.87102e+07   \n",
       "3         0  WEST BENGAL  2005  8.01762e+07   4.1466e+07  3.87102e+07   \n",
       "4         0  WEST BENGAL  2006  8.01762e+07   4.1466e+07  3.87102e+07   \n",
       "...     ...          ...   ...          ...          ...          ...   \n",
       "7944      0      Anand    2015  2.09274e+06  1.08722e+06  1.00552e+06   \n",
       "7945      0    Amritsar   2012  2.49066e+06  1.31841e+06  1.17225e+06   \n",
       "7946      0    Amritsar   2013  2.49066e+06  1.31841e+06  1.17225e+06   \n",
       "7947      0    Amritsar   2014  2.49066e+06  1.31841e+06  1.17225e+06   \n",
       "7948      0    Amritsar   2015  2.49066e+06  1.31841e+06  1.17225e+06   \n",
       "\n",
       "            P_LIT        M_LIT       F_LIT        P_ILL  ...        F_ILL  \\\n",
       "0     4.71964e+07  2.74524e+07  1.9744e+07  3.29798e+07  ...  1.89662e+07   \n",
       "1     4.71964e+07  2.74524e+07  1.9744e+07  3.29798e+07  ...  1.89662e+07   \n",
       "2     4.71964e+07  2.74524e+07  1.9744e+07  3.29798e+07  ...  1.89662e+07   \n",
       "3     4.71964e+07  2.74524e+07  1.9744e+07  3.29798e+07  ...  1.89662e+07   \n",
       "4     4.71964e+07  2.74524e+07  1.9744e+07  3.29798e+07  ...  1.89662e+07   \n",
       "...           ...          ...         ...          ...  ...          ...   \n",
       "7944  1.55125e+06       874481      676772       541492  ...       328749   \n",
       "7945  1.68477e+06       932981      751789       805886  ...       420459   \n",
       "7946  1.68477e+06       932981      751789       805886  ...       420459   \n",
       "7947  1.68477e+06       932981      751789       805886  ...       420459   \n",
       "7948  1.68477e+06       932981      751789       805886  ...       420459   \n",
       "\n",
       "        MAIN_AL_P   MAIN_AL_M    MAIN_AL_F   TOT_WORK_P   TOT_WORK_M  \\\n",
       "0     2.94817e+07  2.2388e+07  7.09365e+06  4.52293e+06  3.74490e+06   \n",
       "1     2.94817e+07  2.2388e+07  7.09365e+06  4.52293e+06  3.74490e+06   \n",
       "2     2.94817e+07  2.2388e+07  7.09365e+06  4.52293e+06  3.74490e+06   \n",
       "3     2.94817e+07  2.2388e+07  7.09365e+06  4.52293e+06  3.74490e+06   \n",
       "4     2.94817e+07  2.2388e+07  7.09365e+06  4.52293e+06  3.74490e+06   \n",
       "...           ...         ...          ...          ...          ...   \n",
       "7944       844794      627561       217233       263622       207235   \n",
       "7945       917856      735195       182661        91248        76076   \n",
       "7946       917856      735195       182661        91248        76076   \n",
       "7947       917856      735195       182661        91248        76076   \n",
       "7948       917856      735195       182661        91248        76076   \n",
       "\n",
       "     TOT_WORK_F   NON_WORK_P   NON_WORK_M   NON_WORK_F  \n",
       "0        778029  5.06945e+07  1.90779e+07  3.16166e+07  \n",
       "1        778029  5.06945e+07  1.90779e+07  3.16166e+07  \n",
       "2        778029  5.06945e+07  1.90779e+07  3.16166e+07  \n",
       "3        778029  5.06945e+07  1.90779e+07  3.16166e+07  \n",
       "4        778029  5.06945e+07  1.90779e+07  3.16166e+07  \n",
       "...         ...          ...          ...          ...  \n",
       "7944      56387  1.24795e+06       459663       788288  \n",
       "7945      15172   1.5728e+06       583213       989587  \n",
       "7946      15172   1.5728e+06       583213       989587  \n",
       "7947      15172   1.5728e+06       583213       989587  \n",
       "7948      15172   1.5728e+06       583213       989587  \n",
       "\n",
       "[7949 rows x 21 columns]"
      ]
     },
     "execution_count": 142,
     "metadata": {},
     "output_type": "execute_result"
    }
   ],
   "source": [
    "inputDataset.reset_index()"
   ]
  },
  {
   "cell_type": "markdown",
   "metadata": {},
   "source": [
    "## Visualization "
   ]
  },
  {
   "cell_type": "code",
   "execution_count": 150,
   "metadata": {},
   "outputs": [
    {
     "data": {
      "text/plain": [
       "<matplotlib.axes._subplots.AxesSubplot at 0x1bc1c7044c8>"
      ]
     },
     "execution_count": 150,
     "metadata": {},
     "output_type": "execute_result"
    },
    {
     "data": {
      "image/png": "[encoded data removed]",
      "text/plain": [
       "<Figure size 432x288 with 1 Axes>"
      ]
     },
     "metadata": {
      "needs_background": "light"
     },
     "output_type": "display_data"
    }
   ],
   "source": [
    "# Sample visualisation only for demonstration purpose using seaborn library\n",
    "# There is high correlation between total population and total female population\n",
    "sns.lineplot(data=df,x=\"TOT_P\",y=\"TOT_M\")"
   ]
  },
  {
   "cell_type": "code",
   "execution_count": 148,
   "metadata": {},
   "outputs": [
    {
     "data": {
      "text/plain": [
       "<matplotlib.axes._subplots.AxesSubplot at 0x1bc1c682d88>"
      ]
     },
     "execution_count": 148,
     "metadata": {},
     "output_type": "execute_result"
    },
    {
     "data": {
      "image/png": "[encoded data removed]",
      "text/plain": [
       "<Figure size 432x288 with 1 Axes>"
      ]
     },
     "metadata": {
      "needs_background": "light"
     },
     "output_type": "display_data"
    }
   ],
   "source": [
    "# Plot of total population with year\n",
    "# The popoulation increases with time and same again so\n",
    "sns.lineplot(data=df,x=\"Year\",y=\"TOT_P\")"
   ]
  },
  {
   "cell_type": "code",
   "execution_count": 149,
   "metadata": {},
   "outputs": [
    {
     "data": {
      "image/png": "[encoded data removed]",
      "text/plain": [
       "<Figure size 432x288 with 1 Axes>"
      ]
     },
     "metadata": {
      "needs_background": "light"
     },
     "output_type": "display_data"
    }
   ],
   "source": [
    "# Plot of total population with literacy\n",
    "# Literacy increases with the time\n",
    "sns.lineplot(data=df,x=\"Year\",y=\"P_LIT\")\n",
    "y=df[\"TOT_P\"]\n",
    "x=df[[\"Name\",\"Year\"]]"
   ]
  },
  {
   "cell_type": "code",
   "execution_count": 84,
   "metadata": {},
   "outputs": [],
   "source": [
    "# Preparing the datset in such a way that it is good to load into our machine learning algorithm\n",
    "#   One Hot Enconding Categorical variables\n",
    "# from sklearn.preprocessing import OneHotEncoder\n",
    "# encodr=OneHotEncoder(categorical_features=[0])\n",
    "# X and Y variable\n",
    "\n",
    "y=df[\"TOT_P\"]\n",
    "x=df[[\"Name\",\"Year\"]]\n",
    "\n",
    "\n",
    "# xa=encodr.fit_transform(x).toarray()\n",
    "# This helps in convering categoriacl variables into numbers\n",
    "x=pd.get_dummies(x)"
   ]
  },
  {
   "cell_type": "code",
   "execution_count": 85,
   "metadata": {},
   "outputs": [
    {
     "data": {
      "text/html": [
       "<div>\n",
       "<style scoped>\n",
       "    .dataframe tbody tr th:only-of-type {\n",
       "        vertical-align: middle;\n",
       "    }\n",
       "\n",
       "    .dataframe tbody tr th {\n",
       "        vertical-align: top;\n",
       "    }\n",
       "\n",
       "    .dataframe thead th {\n",
       "        text-align: right;\n",
       "    }\n",
       "</style>\n",
       "<table border=\"1\" class=\"dataframe\">\n",
       "  <thead>\n",
       "    <tr style=\"text-align: right;\">\n",
       "      <th></th>\n",
       "      <th>Year</th>\n",
       "      <th>Name_ANDAMAN &amp; NICOBAR ISLANDS</th>\n",
       "      <th>Name_ANDHRA PRADESH</th>\n",
       "      <th>Name_ARUNACHAL PRADESH</th>\n",
       "      <th>Name_ASSAM</th>\n",
       "      <th>Name_Adilabad</th>\n",
       "      <th>Name_Agra</th>\n",
       "      <th>Name_Ahmadabad</th>\n",
       "      <th>Name_Ahmadnagar</th>\n",
       "      <th>Name_Aizawl</th>\n",
       "      <th>...</th>\n",
       "      <th>Name_West Siang</th>\n",
       "      <th>Name_West Tripura</th>\n",
       "      <th>Name_West Tripura</th>\n",
       "      <th>Name_Wokha</th>\n",
       "      <th>Name_Y.S.R.</th>\n",
       "      <th>Name_Yadgir</th>\n",
       "      <th>Name_Yamunanagar</th>\n",
       "      <th>Name_Yanam</th>\n",
       "      <th>Name_Yavatmal</th>\n",
       "      <th>Name_Zunheboto</th>\n",
       "    </tr>\n",
       "  </thead>\n",
       "  <tbody>\n",
       "    <tr>\n",
       "      <td>0</td>\n",
       "      <td>2001</td>\n",
       "      <td>0</td>\n",
       "      <td>0</td>\n",
       "      <td>0</td>\n",
       "      <td>0</td>\n",
       "      <td>0</td>\n",
       "      <td>0</td>\n",
       "      <td>0</td>\n",
       "      <td>0</td>\n",
       "      <td>0</td>\n",
       "      <td>...</td>\n",
       "      <td>0</td>\n",
       "      <td>0</td>\n",
       "      <td>0</td>\n",
       "      <td>0</td>\n",
       "      <td>0</td>\n",
       "      <td>0</td>\n",
       "      <td>0</td>\n",
       "      <td>0</td>\n",
       "      <td>0</td>\n",
       "      <td>0</td>\n",
       "    </tr>\n",
       "    <tr>\n",
       "      <td>1</td>\n",
       "      <td>2001</td>\n",
       "      <td>0</td>\n",
       "      <td>0</td>\n",
       "      <td>0</td>\n",
       "      <td>0</td>\n",
       "      <td>0</td>\n",
       "      <td>0</td>\n",
       "      <td>0</td>\n",
       "      <td>0</td>\n",
       "      <td>0</td>\n",
       "      <td>...</td>\n",
       "      <td>0</td>\n",
       "      <td>0</td>\n",
       "      <td>0</td>\n",
       "      <td>0</td>\n",
       "      <td>0</td>\n",
       "      <td>0</td>\n",
       "      <td>0</td>\n",
       "      <td>0</td>\n",
       "      <td>0</td>\n",
       "      <td>0</td>\n",
       "    </tr>\n",
       "    <tr>\n",
       "      <td>2</td>\n",
       "      <td>2001</td>\n",
       "      <td>0</td>\n",
       "      <td>0</td>\n",
       "      <td>0</td>\n",
       "      <td>0</td>\n",
       "      <td>0</td>\n",
       "      <td>0</td>\n",
       "      <td>0</td>\n",
       "      <td>0</td>\n",
       "      <td>0</td>\n",
       "      <td>...</td>\n",
       "      <td>0</td>\n",
       "      <td>0</td>\n",
       "      <td>0</td>\n",
       "      <td>0</td>\n",
       "      <td>0</td>\n",
       "      <td>0</td>\n",
       "      <td>0</td>\n",
       "      <td>0</td>\n",
       "      <td>0</td>\n",
       "      <td>0</td>\n",
       "    </tr>\n",
       "    <tr>\n",
       "      <td>3</td>\n",
       "      <td>2001</td>\n",
       "      <td>0</td>\n",
       "      <td>0</td>\n",
       "      <td>0</td>\n",
       "      <td>0</td>\n",
       "      <td>0</td>\n",
       "      <td>0</td>\n",
       "      <td>0</td>\n",
       "      <td>0</td>\n",
       "      <td>0</td>\n",
       "      <td>...</td>\n",
       "      <td>0</td>\n",
       "      <td>0</td>\n",
       "      <td>0</td>\n",
       "      <td>0</td>\n",
       "      <td>0</td>\n",
       "      <td>0</td>\n",
       "      <td>0</td>\n",
       "      <td>0</td>\n",
       "      <td>0</td>\n",
       "      <td>0</td>\n",
       "    </tr>\n",
       "    <tr>\n",
       "      <td>4</td>\n",
       "      <td>2001</td>\n",
       "      <td>0</td>\n",
       "      <td>0</td>\n",
       "      <td>0</td>\n",
       "      <td>0</td>\n",
       "      <td>0</td>\n",
       "      <td>0</td>\n",
       "      <td>0</td>\n",
       "      <td>0</td>\n",
       "      <td>0</td>\n",
       "      <td>...</td>\n",
       "      <td>0</td>\n",
       "      <td>0</td>\n",
       "      <td>0</td>\n",
       "      <td>0</td>\n",
       "      <td>0</td>\n",
       "      <td>0</td>\n",
       "      <td>0</td>\n",
       "      <td>0</td>\n",
       "      <td>0</td>\n",
       "      <td>0</td>\n",
       "    </tr>\n",
       "  </tbody>\n",
       "</table>\n",
       "<p>5 rows × 741 columns</p>\n",
       "</div>"
      ],
      "text/plain": [
       "   Year  Name_ANDAMAN & NICOBAR ISLANDS  Name_ANDHRA PRADESH  \\\n",
       "0  2001                               0                    0   \n",
       "1  2001                               0                    0   \n",
       "2  2001                               0                    0   \n",
       "3  2001                               0                    0   \n",
       "4  2001                               0                    0   \n",
       "\n",
       "   Name_ARUNACHAL PRADESH  Name_ASSAM  Name_Adilabad  Name_Agra  \\\n",
       "0                       0           0              0          0   \n",
       "1                       0           0              0          0   \n",
       "2                       0           0              0          0   \n",
       "3                       0           0              0          0   \n",
       "4                       0           0              0          0   \n",
       "\n",
       "   Name_Ahmadabad  Name_Ahmadnagar  Name_Aizawl  ...  Name_West Siang  \\\n",
       "0               0                0            0  ...                0   \n",
       "1               0                0            0  ...                0   \n",
       "2               0                0            0  ...                0   \n",
       "3               0                0            0  ...                0   \n",
       "4               0                0            0  ...                0   \n",
       "\n",
       "   Name_West Tripura  Name_West Tripura   Name_Wokha  Name_Y.S.R.  \\\n",
       "0                  0                   0           0            0   \n",
       "1                  0                   0           0            0   \n",
       "2                  0                   0           0            0   \n",
       "3                  0                   0           0            0   \n",
       "4                  0                   0           0            0   \n",
       "\n",
       "   Name_Yadgir  Name_Yamunanagar  Name_Yanam  Name_Yavatmal  Name_Zunheboto  \n",
       "0            0                 0           0              0               0  \n",
       "1            0                 0           0              0               0  \n",
       "2            0                 0           0              0               0  \n",
       "3            0                 0           0              0               0  \n",
       "4            0                 0           0              0               0  \n",
       "\n",
       "[5 rows x 741 columns]"
      ]
     },
     "execution_count": 85,
     "metadata": {},
     "output_type": "execute_result"
    }
   ],
   "source": [
    "x.head()"
   ]
  },
  {
   "cell_type": "code",
   "execution_count": 86,
   "metadata": {},
   "outputs": [
    {
     "data": {
      "text/plain": [
       "(17101, 741)"
      ]
     },
     "execution_count": 86,
     "metadata": {},
     "output_type": "execute_result"
    }
   ],
   "source": [
    "x.shape"
   ]
  },
  {
   "cell_type": "code",
   "execution_count": 87,
   "metadata": {},
   "outputs": [],
   "source": [
    "# dividing  into training and test set \n",
    "x_train=x.loc[:18041]\n",
    "x_test=x.loc[18040:]"
   ]
  },
  {
   "cell_type": "code",
   "execution_count": 88,
   "metadata": {},
   "outputs": [
    {
     "data": {
      "text/plain": [
       "(2646, 741)"
      ]
     },
     "execution_count": 88,
     "metadata": {},
     "output_type": "execute_result"
    }
   ],
   "source": [
    "y_train=y.loc[:18041]\n",
    "y_test=y.loc[18040:]\n",
    "x_test.shape"
   ]
  },
  {
   "cell_type": "markdown",
   "metadata": {},
   "source": [
    "# Model Creation"
   ]
  },
  {
   "cell_type": "code",
   "execution_count": 94,
   "metadata": {},
   "outputs": [
    {
     "name": "stderr",
     "output_type": "stream",
     "text": [
      "C:\\Users\\Dell\\Anaconda3\\lib\\site-packages\\sklearn\\ensemble\\forest.py:245: FutureWarning:\n",
      "\n",
      "The default value of n_estimators will change from 10 in version 0.20 to 100 in 0.22.\n",
      "\n"
     ]
    }
   ],
   "source": [
    "# model \n",
    "model=RandomForestRegressor()\n",
    "\n",
    "# Fit the dataset\n",
    "mo=model.fit(x_train,y_train)"
   ]
  },
  {
   "cell_type": "code",
   "execution_count": 95,
   "metadata": {},
   "outputs": [],
   "source": [
    "# predicting y test\n",
    "y_pred=mo.predict(x_test)"
   ]
  },
  {
   "cell_type": "code",
   "execution_count": 100,
   "metadata": {},
   "outputs": [
    {
     "data": {
      "text/plain": [
       "0.867086325487673"
      ]
     },
     "execution_count": 100,
     "metadata": {},
     "output_type": "execute_result"
    }
   ],
   "source": [
    "# the accuracy of the model using r2 score\n",
    "accuracy=r2_score(y_test,y_pred)\n",
    "accuracy"
   ]
  },
  {
   "cell_type": "code",
   "execution_count": null,
   "metadata": {},
   "outputs": [],
   "source": []
  }
 ],
 "metadata": {
  "kernelspec": {
   "display_name": "Python 3",
   "language": "python",
   "name": "python3"
  },
  "language_info": {
   "codemirror_mode": {
    "name": "ipython",
    "version": 3
   },
   "file_extension": ".py",
   "mimetype": "text/x-python",
   "name": "python",
   "nbconvert_exporter": "python",
   "pygments_lexer": "ipython3",
   "version": "3.7.4"
  }
 },
 "nbformat": 4,
 "nbformat_minor": 2
}
